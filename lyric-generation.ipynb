{
 "cells": [
  {
   "cell_type": "markdown",
   "id": "ddc43a1f",
   "metadata": {},
   "source": [
    "## Section 0"
   ]
  },
  {
   "cell_type": "code",
   "execution_count": 51,
   "id": "e7c40526",
   "metadata": {},
   "outputs": [],
   "source": [
    "# Import libraries\n",
    "%matplotlib inline\n",
    "import numpy as np\n",
    "import pandas as pd\n",
    "import os\n",
    "\n",
    "from transformers import AutoTokenizer, AutoModelForCausalLM, TextDataset, DataCollatorForLanguageModeling, AutoModelWithLMHead\n",
    "import tqdm as notebook_tqdm\n",
    "from sklearn.model_selection import train_test_split\n",
    "from transformers import GPT2Tokenizer, GPT2Model, TrainingArguments, Trainer, GPT2LMHeadModel"
   ]
  },
  {
   "cell_type": "code",
   "execution_count": 52,
   "id": "a66a0326",
   "metadata": {},
   "outputs": [],
   "source": [
    "#Import data\n",
    "album_path = 'data/input/Albums/'\n",
    "\n",
    "album_list = [os.path.join(album_path, a) for a in os.listdir(album_path)]"
   ]
  },
  {
   "cell_type": "code",
   "execution_count": 53,
   "id": "7079be69",
   "metadata": {},
   "outputs": [],
   "source": [
    "album_dataframes = []\n",
    "\n",
    "for track in album_list:\n",
    "    # Step 3: List all .txt files within the subfolder\n",
    "    tracks = [f.path for f in os.scandir(track) if f.is_file() and f.name.endswith('.txt')]\n",
    "     \n",
    "    # Step 4: Read each .txt file into a Pandas DataFrame and append to the list\n",
    "    for track in tracks:\n",
    "        df = pd.read_csv(track, sep='\\t') #read each line, or each song ... (?)\n",
    "        album_dataframes.append(df)"
   ]
  },
  {
   "cell_type": "code",
   "execution_count": 54,
   "id": "285beed9",
   "metadata": {},
   "outputs": [],
   "source": [
    "all_lyrics = pd.concat([df.iloc[:, 0] for df in album_dataframes], ignore_index=True)\n",
    "final_df = pd.DataFrame({'all_lyrics': all_lyrics})"
   ]
  },
  {
   "cell_type": "code",
   "execution_count": 55,
   "id": "23da7279",
   "metadata": {},
   "outputs": [],
   "source": [
    "# try to filter bad quality data?"
   ]
  },
  {
   "cell_type": "markdown",
   "id": "198eed96",
   "metadata": {},
   "source": [
    "## Section 1 - Choosing a metric"
   ]
  },
  {
   "cell_type": "markdown",
   "id": "ef828c4f",
   "metadata": {},
   "source": [
    "Choosing a metric... BLEU or ROUGE?"
   ]
  },
  {
   "cell_type": "markdown",
   "id": "ae764c17",
   "metadata": {},
   "source": [
    "## Section 2 - Model training"
   ]
  },
  {
   "cell_type": "code",
   "execution_count": 56,
   "id": "863c4481",
   "metadata": {},
   "outputs": [],
   "source": [
    "tokenizer = GPT2Tokenizer.from_pretrained('gpt2') # try nltk tokenizer\n",
    "model = GPT2LMHeadModel.from_pretrained('gpt2')"
   ]
  },
  {
   "cell_type": "code",
   "execution_count": 57,
   "id": "8fb2d008",
   "metadata": {},
   "outputs": [],
   "source": [
    "train, test = train_test_split(all_lyrics,test_size=0.15)"
   ]
  },
  {
   "cell_type": "code",
   "execution_count": 58,
   "id": "b5dcecf1",
   "metadata": {},
   "outputs": [
    {
     "name": "stdout",
     "output_type": "stream",
     "text": [
      "Train dataset length: 29854\n",
      "Test dataset length: 5269\n"
     ]
    }
   ],
   "source": [
    "print(\"Train dataset length: \"+str(len(train)))\n",
    "print(\"Test dataset length: \"+ str(len(test)))"
   ]
  },
  {
   "cell_type": "code",
   "execution_count": 59,
   "id": "4a3ac7b5",
   "metadata": {},
   "outputs": [],
   "source": [
    "with open('data/output/trainTaylorSwift.txt', 'w', encoding='utf-8') as f:\n",
    "  for t in train:\n",
    "    f.write(t)\n",
    "    f.write(' ')\n",
    "\n",
    "\n",
    "with open('data/output/testTaylorSwift.txt', 'w', encoding='utf-8') as f:\n",
    "  for t in test:\n",
    "    f.write(t)\n",
    "    f.write(' ')\n",
    "    \n",
    "train_path = 'data/output/trainTaylorSwift.txt'\n",
    "test_path = 'data/output/testTaylorSwift.txt'"
   ]
  },
  {
   "cell_type": "code",
   "execution_count": null,
   "id": "84e43315",
   "metadata": {},
   "outputs": [],
   "source": []
  }
 ],
 "metadata": {
  "kernelspec": {
   "display_name": "Python 3 (ipykernel)",
   "language": "python",
   "name": "python3"
  },
  "language_info": {
   "codemirror_mode": {
    "name": "ipython",
    "version": 3
   },
   "file_extension": ".py",
   "mimetype": "text/x-python",
   "name": "python",
   "nbconvert_exporter": "python",
   "pygments_lexer": "ipython3",
   "version": "3.10.8"
  }
 },
 "nbformat": 4,
 "nbformat_minor": 5
}
